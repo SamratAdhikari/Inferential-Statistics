{
 "cells": [
  {
   "cell_type": "markdown",
   "id": "b299edf2",
   "metadata": {},
   "source": [
    "# <center>Margin of Error & Confidence Interval</center>"
   ]
  },
  {
   "cell_type": "markdown",
   "id": "46612f36",
   "metadata": {},
   "source": [
    " The Boston house-price data of Harrison, D. and Rubinfeld, D.L. 'Hedonic  \n",
    " prices and the demand for clean air', J. Environ. Economics & Management,  \n",
    " vol.5, 81-102, 1978.   Used in Belsley, Kuh & Welsch, 'Regression diagnostics  \n",
    " ...', Wiley, 1980.   N.B. Various transformations are used in the table on  \n",
    " pages 244-261 of the latter.\n",
    "\n",
    "<br>\n",
    "\n",
    " <b>Variables in order:</b>  \n",
    " CRIM:     per capita crime rate by town  \n",
    " ZN:       proportion of residential land zoned for lots over 25,000 sq.ft.  \n",
    " INDUS:    proportion of non-retail business acres per town  \n",
    " CHAS:     Charles River dummy variable (= 1 if tract bounds river; 0 otherwise)   \n",
    " NOX:      nitric oxides concentration (parts per 10 million)  \n",
    " RM:       average number of rooms per dwelling  \n",
    " AGE:      proportion of owner-occupied units built prior to 1940   \n",
    " DIS:      weighted distances to five Boston employment centres  \n",
    " RAD:      index of accessibility to radial highways  \n",
    " TAX:      full-value property-tax rate per dollar 10,000  \n",
    " PTRATIO:  pupil-teacher ratio by town  \n",
    " B:        1000(Bk - 0.63)^2 where Bk is the proportion of blacks by town  \n",
    " LSTAT:    % lower status of the population  \n",
    " MEDV:     Median value of owner-occupied homes in dollar 1000's  "
   ]
  },
  {
   "cell_type": "code",
   "execution_count": 7,
   "id": "6cc88015",
   "metadata": {},
   "outputs": [],
   "source": [
    "import numpy as np\n",
    "import pandas as pd\n",
    "from scipy import stats\n",
    "from sklearn.utils import shuffle"
   ]
  },
  {
   "cell_type": "code",
   "execution_count": 2,
   "id": "3dd4ed71",
   "metadata": {},
   "outputs": [],
   "source": [
    "data_url = \"http://lib.stat.cmu.edu/datasets/boston\"\n",
    "raw_df = pd.read_csv(data_url, sep=\"\\s+\", skiprows=22, header=None)\n",
    "\n",
    "data = np.hstack([raw_df.values[::2, :], raw_df.values[1::2, :2]])\n",
    "\n",
    "target = raw_df.values[1::2, 2]\n",
    "feat = ['CRIM', 'ZN', 'INDUS', 'CHAS', 'NOX', 'RM', 'AGE', 'DIS', 'RAD', 'TAX', 'PIRATIO', 'B', 'LSTAT']"
   ]
  },
  {
   "cell_type": "code",
   "execution_count": 3,
   "id": "6c7bd11c",
   "metadata": {},
   "outputs": [
    {
     "data": {
      "text/html": [
       "<div>\n",
       "<style scoped>\n",
       "    .dataframe tbody tr th:only-of-type {\n",
       "        vertical-align: middle;\n",
       "    }\n",
       "\n",
       "    .dataframe tbody tr th {\n",
       "        vertical-align: top;\n",
       "    }\n",
       "\n",
       "    .dataframe thead th {\n",
       "        text-align: right;\n",
       "    }\n",
       "</style>\n",
       "<table border=\"1\" class=\"dataframe\">\n",
       "  <thead>\n",
       "    <tr style=\"text-align: right;\">\n",
       "      <th></th>\n",
       "      <th>CRIM</th>\n",
       "      <th>ZN</th>\n",
       "      <th>INDUS</th>\n",
       "      <th>CHAS</th>\n",
       "      <th>NOX</th>\n",
       "      <th>RM</th>\n",
       "      <th>AGE</th>\n",
       "      <th>DIS</th>\n",
       "      <th>RAD</th>\n",
       "      <th>TAX</th>\n",
       "      <th>PIRATIO</th>\n",
       "      <th>B</th>\n",
       "      <th>LSTAT</th>\n",
       "      <th>target</th>\n",
       "    </tr>\n",
       "  </thead>\n",
       "  <tbody>\n",
       "    <tr>\n",
       "      <th>69</th>\n",
       "      <td>0.12816</td>\n",
       "      <td>12.5</td>\n",
       "      <td>6.07</td>\n",
       "      <td>0.0</td>\n",
       "      <td>0.409</td>\n",
       "      <td>5.885</td>\n",
       "      <td>33.0</td>\n",
       "      <td>6.4980</td>\n",
       "      <td>4.0</td>\n",
       "      <td>345.0</td>\n",
       "      <td>18.9</td>\n",
       "      <td>396.90</td>\n",
       "      <td>8.79</td>\n",
       "      <td>20.9</td>\n",
       "    </tr>\n",
       "    <tr>\n",
       "      <th>211</th>\n",
       "      <td>0.37578</td>\n",
       "      <td>0.0</td>\n",
       "      <td>10.59</td>\n",
       "      <td>1.0</td>\n",
       "      <td>0.489</td>\n",
       "      <td>5.404</td>\n",
       "      <td>88.6</td>\n",
       "      <td>3.6650</td>\n",
       "      <td>4.0</td>\n",
       "      <td>277.0</td>\n",
       "      <td>18.6</td>\n",
       "      <td>395.24</td>\n",
       "      <td>23.98</td>\n",
       "      <td>19.3</td>\n",
       "    </tr>\n",
       "    <tr>\n",
       "      <th>78</th>\n",
       "      <td>0.05646</td>\n",
       "      <td>0.0</td>\n",
       "      <td>12.83</td>\n",
       "      <td>0.0</td>\n",
       "      <td>0.437</td>\n",
       "      <td>6.232</td>\n",
       "      <td>53.7</td>\n",
       "      <td>5.0141</td>\n",
       "      <td>5.0</td>\n",
       "      <td>398.0</td>\n",
       "      <td>18.7</td>\n",
       "      <td>386.40</td>\n",
       "      <td>12.34</td>\n",
       "      <td>21.2</td>\n",
       "    </tr>\n",
       "    <tr>\n",
       "      <th>420</th>\n",
       "      <td>11.08740</td>\n",
       "      <td>0.0</td>\n",
       "      <td>18.10</td>\n",
       "      <td>0.0</td>\n",
       "      <td>0.718</td>\n",
       "      <td>6.411</td>\n",
       "      <td>100.0</td>\n",
       "      <td>1.8589</td>\n",
       "      <td>24.0</td>\n",
       "      <td>666.0</td>\n",
       "      <td>20.2</td>\n",
       "      <td>318.75</td>\n",
       "      <td>15.02</td>\n",
       "      <td>16.7</td>\n",
       "    </tr>\n",
       "    <tr>\n",
       "      <th>152</th>\n",
       "      <td>1.12658</td>\n",
       "      <td>0.0</td>\n",
       "      <td>19.58</td>\n",
       "      <td>1.0</td>\n",
       "      <td>0.871</td>\n",
       "      <td>5.012</td>\n",
       "      <td>88.0</td>\n",
       "      <td>1.6102</td>\n",
       "      <td>5.0</td>\n",
       "      <td>403.0</td>\n",
       "      <td>14.7</td>\n",
       "      <td>343.28</td>\n",
       "      <td>12.12</td>\n",
       "      <td>15.3</td>\n",
       "    </tr>\n",
       "  </tbody>\n",
       "</table>\n",
       "</div>"
      ],
      "text/plain": [
       "         CRIM    ZN  INDUS  CHAS    NOX     RM    AGE     DIS   RAD    TAX   \n",
       "69    0.12816  12.5   6.07   0.0  0.409  5.885   33.0  6.4980   4.0  345.0  \\\n",
       "211   0.37578   0.0  10.59   1.0  0.489  5.404   88.6  3.6650   4.0  277.0   \n",
       "78    0.05646   0.0  12.83   0.0  0.437  6.232   53.7  5.0141   5.0  398.0   \n",
       "420  11.08740   0.0  18.10   0.0  0.718  6.411  100.0  1.8589  24.0  666.0   \n",
       "152   1.12658   0.0  19.58   1.0  0.871  5.012   88.0  1.6102   5.0  403.0   \n",
       "\n",
       "     PIRATIO       B  LSTAT  target  \n",
       "69      18.9  396.90   8.79    20.9  \n",
       "211     18.6  395.24  23.98    19.3  \n",
       "78      18.7  386.40  12.34    21.2  \n",
       "420     20.2  318.75  15.02    16.7  \n",
       "152     14.7  343.28  12.12    15.3  "
      ]
     },
     "execution_count": 3,
     "metadata": {},
     "output_type": "execute_result"
    }
   ],
   "source": [
    "df = pd.DataFrame(data, columns=feat)\n",
    "df['target'] = target\n",
    "df = shuffle(df)\n",
    "df.head()"
   ]
  },
  {
   "cell_type": "markdown",
   "id": "a318aaa3",
   "metadata": {},
   "source": [
    "#### Generate the sample"
   ]
  },
  {
   "cell_type": "code",
   "execution_count": 5,
   "id": "fb076ab3",
   "metadata": {},
   "outputs": [],
   "source": [
    "sample_size = 200\n",
    "sample = df.sample(n=sample_size, random_state=1)"
   ]
  },
  {
   "cell_type": "markdown",
   "id": "96d2698e",
   "metadata": {},
   "source": [
    "#### Generate z-critical, margin of error & confidence interval"
   ]
  },
  {
   "cell_type": "code",
   "execution_count": 8,
   "id": "f02cd73d",
   "metadata": {},
   "outputs": [],
   "source": [
    "sample_mean = sample.target.mean()\n",
    "sample_std = sample.target.std()\n",
    "\n",
    "z_critical = stats.norm.ppf(q=0.975)\n",
    "margin_of_error = z_critical * (sample_std / sample_size**0.5)\n",
    "confidence_interval = (sample_mean - margin_of_error, sample_mean + margin_of_error)"
   ]
  },
  {
   "cell_type": "code",
   "execution_count": 9,
   "id": "f879b9b6",
   "metadata": {},
   "outputs": [
    {
     "name": "stdout",
     "output_type": "stream",
     "text": [
      "Sample mean: 22.769000000000002\n",
      "Sample standard deviation: 9.203933996124979\n",
      "\n",
      "Sample critical point: 1.959963984540054\n",
      "Sample margin of error: 1.275576732429162\n",
      "Sample confidence interval: (21.49342326757084, 24.044576732429164)\n"
     ]
    }
   ],
   "source": [
    "print(\"Sample mean:\", sample_mean)\n",
    "print(\"Sample standard deviation:\", sample_std)\n",
    "print()\n",
    "print(\"Sample critical point:\", z_critical)\n",
    "print(\"Sample margin of error:\", margin_of_error)\n",
    "print(\"Sample confidence interval:\", confidence_interval)"
   ]
  },
  {
   "cell_type": "code",
   "execution_count": null,
   "id": "54c476b9",
   "metadata": {},
   "outputs": [],
   "source": []
  }
 ],
 "metadata": {
  "kernelspec": {
   "display_name": "Python 3 (ipykernel)",
   "language": "python",
   "name": "python3"
  },
  "language_info": {
   "codemirror_mode": {
    "name": "ipython",
    "version": 3
   },
   "file_extension": ".py",
   "mimetype": "text/x-python",
   "name": "python",
   "nbconvert_exporter": "python",
   "pygments_lexer": "ipython3",
   "version": "3.11.3"
  }
 },
 "nbformat": 4,
 "nbformat_minor": 5
}
