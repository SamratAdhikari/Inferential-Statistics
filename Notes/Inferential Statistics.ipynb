{
 "cells": [
  {
   "cell_type": "markdown",
   "id": "511f8231",
   "metadata": {},
   "source": [
    "# <center>Inferential Statistics</center>"
   ]
  },
  {
   "cell_type": "markdown",
   "id": "c6b595c7",
   "metadata": {},
   "source": [
    "## Introduction to Inferential Statistics"
   ]
  },
  {
   "cell_type": "markdown",
   "id": "edc5b284",
   "metadata": {},
   "source": [
    "- Inferential Statistics is the process of using the data analysis to deduce properties of an underlying probability distribution.\n",
    "- Population & Sample.\n",
    "\n",
    "<br>\n",
    "\n",
    "<b>Concept of Population & Sample:</b>\n",
    "- Population is assumed to follow Statistical Distribution with unknown parameters and is represented as:  \n",
    "        X ~ f(x:θ)  \n",
    "        where, f: Probability Distribution Function, θ: Parameter\n",
    "- A subset of Population is called a Sample.\n",
    "- If a sequence of Observation drawn from population is random then, it is random sample.\n",
    "- Population Characteristics are known as Parameters, sample characteristics are known as Statistic.\n",
    "\n",
    "<br>\n",
    "\n",
    "<b>Difference between Parameter & Statistic:</b>\n",
    "- Parameter:\n",
    "    - A statistical concept of Population.\n",
    "    - Eg: Population mean, Population std.\n",
    "- Statistic:\n",
    "    - A function of sample values.\n",
    "    - Eg: sample mean, sample std.\n",
    "\n",
    "<br>\n",
    "\n",
    "<b>Types of Inferential Statistics:</b>\n",
    "- Classified into Hypothesis testing & Regression analysis.\n",
    "- Includes the use of confidence intervals to test the parameters of a population.\n",
    "\n",
    "<img src='assets/Types of Inferential Statistics.png'>\n",
    "\n",
    "<br>\n",
    "\n",
    "<b>Hypothesis Testing:</b>\n",
    "- Hypothesis testing is a type of inferential statistics that is used to test assumptions and draw conclusions about the population from the available sample data.\n",
    "- It involves setting up a null hypothesis(current belief) and an alternative hypothesis followed by conducting a statistical test of significance.\n",
    "\n",
    "<br>\n",
    "\n",
    "<b>Regression Analysis:</b>\n",
    "- Regression analysis is used to quantify how one variable will change with respect to another variable.\n",
    "- Types of Regression: Linear, Multiple Linear, Logistic & Ordinal Regression.\n",
    "- The most used Regression Analysis is Linear Regression.\n",
    "\n",
    "<br>\n",
    "\n",
    "<b>Use Case: Inferential Statistics:</b>\n",
    "- Suppose the mean marks of 100 students in a particular state are known.   \n",
    "  Using this sample information, the mean marks of students in the state can be approximated using Inferential Statistics."
   ]
  },
  {
   "cell_type": "markdown",
   "id": "008fe35e",
   "metadata": {},
   "source": [
    " "
   ]
  },
  {
   "cell_type": "markdown",
   "id": "ca43bcc1",
   "metadata": {},
   "source": [
    "## Key Terminologies in Inferential Statistics"
   ]
  },
  {
   "cell_type": "markdown",
   "id": "a173649b",
   "metadata": {},
   "source": [
    "<b>Parameter Space:</b>\n",
    "- The set of all admissible values of the parameter.  \n",
    "\n",
    "<b>Sample Space:</b>\n",
    "- The set of all samples of same size that can be drawn from population.\n",
    "\n",
    "<br>\n",
    "\n",
    "<b>Sampling Distribution:</b>\n",
    "- The distribution of values of statistic for different samples of the same size is called its Sampling Distribution.  \n",
    "\n",
    "<b>Standard Error:</b>\n",
    "- The standard deviation of the sampling distribution of a statistic is called its Standard Error.\n",
    "\n",
    "<br>\n",
    "\n",
    "<b>Estimation:</b>\n",
    "- Estimation represents the method of obtaining the most likely value of the population parameter using Statistic.\n",
    "- Two types of Estimation:\n",
    "    - Point Estimation\n",
    "    - Interval Estimation"
   ]
  },
  {
   "cell_type": "markdown",
   "id": "171b1ffe",
   "metadata": {},
   "source": [
    " "
   ]
  },
  {
   "cell_type": "markdown",
   "id": "9670425e",
   "metadata": {},
   "source": [
    "## Forms of Statistical Inference"
   ]
  },
  {
   "cell_type": "markdown",
   "id": "f5a9d671",
   "metadata": {},
   "source": [
    "- There are three main ways of learning about the population parameter from the sample statistic:\n",
    "    - Point Estimation\n",
    "    - Interval Estimation\n",
    "    - Hypothesis Testing\n",
    "    \n",
    "<br>\n",
    "\n",
    "<b>Estimator & Estimate:</b>\n",
    "- A statistic which is used to estimate the paramter, θ is called Point estimator or Estimator. (It is a formula)\n",
    "- The value of estimator for an instance or a realization of sample is called Estimate. (It is a value)\n",
    "\n",
    "<br>\n",
    "\n",
    "<b>Bias of an Estimator:</b>\n",
    "- It is the difference between a parameter and the expectation of its estimator and is defined as:  \n",
    "  B(θ') = E(θ') - θ  \n",
    "  where, θ' is an estimator for a parameter θ.  \n",
    "  \n",
    "<b>Biased & Unbiased Estimator:</b>\n",
    "- If the expected value of a given statistic is equal to the parameter (bias of an estimator is 0),  \n",
    "  then the statistic is an unbiased estimator of the parameter.\n",
    "- If there is a difference between the expected value of statistic and the parameter,  \n",
    "  then it is a biased estimator.\n",
    "  \n",
    "<br>\n",
    "\n",
    "<b>Point Estimation:</b>\n",
    "- Point estimates are single values that estimate the unknown parameter from the statistic.\n",
    "- For example: the sample mean (x̄) is a point estimate of the population mean (µ).  \n",
    "  Similarly, the sample proportion (p) is a point estimate of the population proportion (P).  \n",
    "  \n",
    "<b>Interval Estimation:</b>\n",
    "- Interval estimate is defined by two numbers (estimators), within which a population parameter is said to lie.\n",
    "- The true value of the parameter, θ' is estimated with two estimators: \n",
    "    - θ'<sub>L</sub> : lower confidence limit\n",
    "    - θ'<sub>U</sub> : upper confidence limit\n",
    "    - (1 - α) : confidence level\n",
    "    - α : significance level\n",
    "    - P(θ'<sub>L</sub> < θ' < θ'<sub>U</sub>) = (1 - α)\n",
    "    \n",
    "<br>\n",
    "\n",
    "<b>Point & Interval Estimation:</b>\n",
    "- Point Estimation:\n",
    "    - Gives the particular value as an estimate of the population parameter.\n",
    "    - Example: Number of runs made by a team in the finals of Asian Cup based on the data of past performance.\n",
    "\n",
    "- Interval Estimation:\n",
    "    - Gives the range of values which is likely to contain the population parameter.\n",
    "    - Example: Estimate the range of subscriptions of the Fixed Deposit scheme & \n",
    "               check whether they cross the critical threshold or not."
   ]
  },
  {
   "cell_type": "markdown",
   "id": "4efa9371",
   "metadata": {},
   "source": [
    " "
   ]
  },
  {
   "cell_type": "markdown",
   "id": "317735fe",
   "metadata": {},
   "source": [
    "#### Confidence Interval"
   ]
  },
  {
   "cell_type": "markdown",
   "id": "1dab4db6",
   "metadata": {},
   "source": [
    "<b>Confidence Interval:</b>\n",
    "- A confidence interval describes the amount of uncertainty associated with a sample estimate of a population parameter.\n",
    "- 3 parts of confidence interval:\n",
    "    - Confidence Level\n",
    "    - Statistic\n",
    "    - Margin of Error\n",
    "<img src='assets/Confidence Interval.png' width=500>\n",
    "\n",
    "<br>\n",
    "    \n",
    "<b>Confidence Level:</b>\n",
    "- The probability part of a confidence interval is called confidence level, denoted by (1 - α).\n",
    "- It describes the likelihood that a sampling method will produce a confidence interval that includes the true population parameter.\n",
    "- 95% confidence level means that 95% of the intervals contain the true population parameter.\n",
    "\n",
    "<br>\n",
    "\n",
    "<b>Confidence Level: Guessing Game:</b>\n",
    "- Consider a glass jar that has exactly 200 candies and this number is not revealed to the participants.\n",
    "- You win Rs. 50 if you guess the number of candies in this jar. The cost of playing this game is Rs. 5 per attempt.  \n",
    "\n",
    "Game I: \n",
    "- No room for error. You need to give the exact count.  \n",
    "  You are not so confident of playing this game. You have low confidence level for this version.   \n",
    "\n",
    "Game II: \n",
    "- You can guess the number of candies with a variance of 50 (i.e. 300 +- 50).  \n",
    "  You are a bit more confident to play this game. You have moderate confidence level and moderate room for ERROR in this version.  \n",
    "\n",
    "Game III:  \n",
    "- You can guess with a variance of 100. You are more confident to play this game.  \n",
    "  You have high confidence level and high room for ERROR.\n",
    "  \n",
    "  \n",
    "<br>\n",
    "\n",
    "<b>Margin of Error:</b>\n",
    "- In a confidence interval, the range of values above and below the sample statistic is called the Margin of Error.\n",
    "- For example: Suppose the local newspaper conducts an election survey and reports that the independent candidate will receive 40% of the vote.\n",
    "- The newspaper states that the survey had a 5% margin of error and a confidence level of 95%.\n",
    "- These findings result in the following confidence interval: We are 95% confident that the independent candidate will receive between 35% to 45% of the votes. \n",
    "\n",
    "<br>\n",
    "\n",
    "<b>Confidence Interval Estimation:</b>\n",
    "- The Confidence Interval is CI = (θ'<sub>L</sub>, θ'<sub>U</sub>)\n",
    "- Confidence Interval for Normal Mean:  \n",
    "    θ'<sub>L</sub> = X̄ - Z<sub>$\\frac{α}{2}$</sub>*$\\frac{S}{√n}$  \n",
    "    θ'<sub>U</sub> = X̄ + Z<sub>$\\frac{α}{2}$</sub>*$\\frac{S}{√n}$  \n",
    "    where, Z<sub>$\\frac{α}{2}$</sub> is normal cut-off whose right tail area is $\\frac{α}{2}$.\n",
    "<img src='assets/Confidence Interval Estimation.png' width=500>\n",
    "\n",
    "<br>\n",
    "\n",
    "<b>Construction of Confidence Interval:</b>\n",
    "- Identify the Sample Statistic:\n",
    "    - Choose the statistic that will be used to estimate a population parameter.\n",
    "- Select the Confidence Level:\n",
    "    - Describe the uncertainity of a sampling method.\n",
    "- Find Margin of Error:\n",
    "    - Find the margin of error based on this equation:  \n",
    "      Margin of Error = Critical Value * Standard Deviation of Statistic\n",
    "- Specify Confidence Interval:\n",
    "    - The confidence interval can be found by:  \n",
    "      Confidence Interval = Sample Statistic +- Margin of Error"
   ]
  },
  {
   "cell_type": "markdown",
   "id": "2af5131f",
   "metadata": {},
   "source": [
    " "
   ]
  },
  {
   "cell_type": "markdown",
   "id": "50b129de",
   "metadata": {},
   "source": [
    "## Hypothesis Testing"
   ]
  },
  {
   "cell_type": "markdown",
   "id": "05cd7431",
   "metadata": {},
   "source": [
    "Hypothesis is a claim and the objective of hypothesis testing is to either reject or retain a <u>Null Hypothesis</u> (current belief) with the help of data. Normally, Hypothesis consists of two complementary statements called:  \n",
    "- Null Hypothesis\n",
    "- Alternative Hypothesis\n",
    "\n",
    "<br>\n",
    "\n",
    "<b>Examples of Null Hypothesis:</b>\n",
    "- Children who drink Boost are likely to grow taller and stronger.\n",
    "- Women are more addicted to Instagram than men.\n",
    "- Vegetarians miss fewer flights.\n",
    "- Smokers make more sales than non-smokers.\n",
    "\n",
    "<br>\n",
    "\n",
    "<b>Steps for Hypothesis Test:</b>\n",
    "- Define Null and Alternative Hypotheses.\n",
    "- Identify Test statistic to be used for the validity of the null hypothesis.\n",
    "- Decide the criteria for rejection & retention of null hypothesis.  \n",
    "  This is known as significance value (p).\n",
    "- Calculate the p-value (probability value), which is a conditional probability of observing the test statistic value when null hypothesis is true. \n",
    "- Decide whether to reject or retain the null hypothesis based on the p-value.\n",
    "\n",
    "<br>\n",
    "\n",
    "<b>Statistical Test Interpretation:</b>\n",
    "- p-value:\n",
    "    - A number between 0 and 1, interpreted as a percentage between 0 and 100.\n",
    "    - Ideal p-value is 0.05 (5%).\n",
    "- Critical Value:\n",
    "    - The values on the scale of the test statistic beyond which we reject the null hypothesis.\n",
    "\n",
    "<br>\n",
    "\n",
    "<b>Statistical Test Interpretation:</b>\n",
    "- p-value:\n",
    "    - If p-value > α : Fail to reject the null hypothesis.  \n",
    "      (i.e. not a significant result)\n",
    "    - If p-value <= α : Reject the null hypothesis.  \n",
    "      (i.e. significant result)\n",
    "    - generally, α = 0.05\n",
    "      \n",
    "- Critical Value:\n",
    "    - If Critical Value > Test Statistic : Fail to reject the null hypothesis.  \n",
    "      (i.e. not a significant result)\n",
    "    - If Critical Value <= Test Statistic : Reject the null hypothesis.  \n",
    "      (i.e. significant result)"
   ]
  },
  {
   "cell_type": "markdown",
   "id": "705811d9",
   "metadata": {},
   "source": [
    " "
   ]
  },
  {
   "cell_type": "markdown",
   "id": "6d6cb06b",
   "metadata": {},
   "source": [
    "## Z - Test"
   ]
  },
  {
   "cell_type": "markdown",
   "id": "4727b418",
   "metadata": {},
   "source": [
    "- Z-test is a statistical tool used for the comparision or determination of the significance of several statistical measures, particularly the mean.\n",
    "- It helps to estimate the relationship between the mean of the sample and the assumed mean.\n",
    "- Commonly used statistical tool where the sample size is large (n>30).\n",
    "- Variance is usually known.\n",
    "- Z = $\\frac{x̄\\ +\\ µ}{\\frac{σ^2}{√n}}$  \n",
    "  where,  \n",
    "  x̄ is the mean of the sample  \n",
    "  µ is the assumed mean  \n",
    "  σ is the population standard deviation and  \n",
    "  n is the number of observations"
   ]
  },
  {
   "cell_type": "markdown",
   "id": "f3fab16d",
   "metadata": {},
   "source": [
    " "
   ]
  },
  {
   "cell_type": "markdown",
   "id": "2605811b",
   "metadata": {},
   "source": [
    "## One Sample T - Test"
   ]
  },
  {
   "cell_type": "markdown",
   "id": "982bd9ab",
   "metadata": {},
   "source": [
    "- The one-sample T-test is a statistical hypothesis test used to determine whether an unknown population mean is different from a specific value.\n",
    "- We use T-test for continuous data.\n",
    "- Data should be a random sample from a normal population.\n",
    "- t = $\\frac{x̄\\ -\\ µ}{\\frac{S}{√n}}$  \n",
    "  where,  \n",
    "  x̄ is the mean of the sample  \n",
    "  µ is the assumed mean  \n",
    "  S is the sample standard deviation  \n",
    "  n is the number of observations"
   ]
  },
  {
   "cell_type": "markdown",
   "id": "31098453",
   "metadata": {},
   "source": [
    " "
   ]
  },
  {
   "cell_type": "markdown",
   "id": "648b70cf",
   "metadata": {},
   "source": [
    "## Two Sample T - Test"
   ]
  },
  {
   "cell_type": "markdown",
   "id": "0d658bc1",
   "metadata": {},
   "source": [
    "- The two-sample T-test is a statistical hypothesis test used to test whether the unknown population means of two groups are equal or not.\n",
    "- It is used to analyze the results from A/B tests.\n",
    "- We use the T-test for continuous data.\n",
    "- We use the test when data values are independent, are randomly sampled from two normal populations and the two independent groups have equal variances."
   ]
  },
  {
   "cell_type": "code",
   "execution_count": null,
   "id": "770d0b73",
   "metadata": {},
   "outputs": [],
   "source": []
  }
 ],
 "metadata": {
  "kernelspec": {
   "display_name": "Python 3 (ipykernel)",
   "language": "python",
   "name": "python3"
  },
  "language_info": {
   "codemirror_mode": {
    "name": "ipython",
    "version": 3
   },
   "file_extension": ".py",
   "mimetype": "text/x-python",
   "name": "python",
   "nbconvert_exporter": "python",
   "pygments_lexer": "ipython3",
   "version": "3.11.3"
  }
 },
 "nbformat": 4,
 "nbformat_minor": 5
}
