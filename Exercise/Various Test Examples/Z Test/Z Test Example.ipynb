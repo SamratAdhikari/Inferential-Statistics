{
 "cells": [
  {
   "cell_type": "markdown",
   "id": "deef1cfb",
   "metadata": {},
   "source": [
    "# <center>Z Test Example</center>"
   ]
  },
  {
   "cell_type": "markdown",
   "id": "a7442b5f",
   "metadata": {},
   "source": [
    "### Example I"
   ]
  },
  {
   "cell_type": "markdown",
   "id": "9320f5f0",
   "metadata": {},
   "source": [
    "A passport office claims that the passport applications are processed within 30 days of submitting the application form and all the necessary documents. Now we have a CSV file and it contains the processing time of 40 passport applicants, the population standard deviation of the processing time is given by 12.5 days. As a part of oir activity, we have to conduct a hypothesis test at the significance level of 0.05 (p-value) to verify the claim made by the passport office."
   ]
  },
  {
   "cell_type": "markdown",
   "id": "6bc14205",
   "metadata": {},
   "source": [
    "- Null Hypothesis: Passport office processes application within 30 days (if p > 0.05)\n",
    "- Alternate Hypothesis: Passport office processes application greater than 30 days (if p < 0.05)"
   ]
  },
  {
   "cell_type": "markdown",
   "id": "93de510a",
   "metadata": {},
   "source": [
    "<b>Given:</b>  \n",
    "Total number of entries; population size  (N) = 40   \n",
    "Population mean (X̄) = 30 days  \n",
    "Population standard deviation (σ) = 12.5"
   ]
  },
  {
   "cell_type": "code",
   "execution_count": 8,
   "id": "2391fcab",
   "metadata": {},
   "outputs": [],
   "source": [
    "import pandas as pd\n",
    "from scipy import stats"
   ]
  },
  {
   "cell_type": "code",
   "execution_count": 7,
   "id": "8520a6be",
   "metadata": {},
   "outputs": [
    {
     "data": {
      "text/html": [
       "<div>\n",
       "<style scoped>\n",
       "    .dataframe tbody tr th:only-of-type {\n",
       "        vertical-align: middle;\n",
       "    }\n",
       "\n",
       "    .dataframe tbody tr th {\n",
       "        vertical-align: top;\n",
       "    }\n",
       "\n",
       "    .dataframe thead th {\n",
       "        text-align: right;\n",
       "    }\n",
       "</style>\n",
       "<table border=\"1\" class=\"dataframe\">\n",
       "  <thead>\n",
       "    <tr style=\"text-align: right;\">\n",
       "      <th></th>\n",
       "      <th>processing_time</th>\n",
       "    </tr>\n",
       "  </thead>\n",
       "  <tbody>\n",
       "    <tr>\n",
       "      <th>0</th>\n",
       "      <td>18</td>\n",
       "    </tr>\n",
       "    <tr>\n",
       "      <th>1</th>\n",
       "      <td>15</td>\n",
       "    </tr>\n",
       "    <tr>\n",
       "      <th>2</th>\n",
       "      <td>20</td>\n",
       "    </tr>\n",
       "    <tr>\n",
       "      <th>3</th>\n",
       "      <td>36</td>\n",
       "    </tr>\n",
       "    <tr>\n",
       "      <th>4</th>\n",
       "      <td>26</td>\n",
       "    </tr>\n",
       "  </tbody>\n",
       "</table>\n",
       "</div>"
      ],
      "text/plain": [
       "   processing_time\n",
       "0               18\n",
       "1               15\n",
       "2               20\n",
       "3               36\n",
       "4               26"
      ]
     },
     "execution_count": 7,
     "metadata": {},
     "output_type": "execute_result"
    }
   ],
   "source": [
    "df = pd.read_csv(\"passport_data.csv\")\n",
    "df.head()"
   ]
  },
  {
   "cell_type": "code",
   "execution_count": 4,
   "id": "b293c9ae",
   "metadata": {},
   "outputs": [
    {
     "data": {
      "text/plain": [
       "(40, 1)"
      ]
     },
     "execution_count": 4,
     "metadata": {},
     "output_type": "execute_result"
    }
   ],
   "source": [
    "df.shape"
   ]
  },
  {
   "cell_type": "code",
   "execution_count": 5,
   "id": "97e3baea",
   "metadata": {},
   "outputs": [],
   "source": [
    "x = df['processing_time'].mean()\n",
    "X = 30\n",
    "pop_std = 12.5\n",
    "N = 40"
   ]
  },
  {
   "cell_type": "markdown",
   "id": "bffbfe42",
   "metadata": {},
   "source": [
    "#### Z-test statistic"
   ]
  },
  {
   "cell_type": "code",
   "execution_count": 6,
   "id": "9ea99ec1",
   "metadata": {},
   "outputs": [
    {
     "data": {
      "text/plain": [
       "-1.606437051365537"
      ]
     },
     "execution_count": 6,
     "metadata": {},
     "output_type": "execute_result"
    }
   ],
   "source": [
    "z_test = (x-X) / ( (pop_std) / N**0.5)\n",
    "z_test"
   ]
  },
  {
   "cell_type": "markdown",
   "id": "85a5352d",
   "metadata": {},
   "source": [
    "#### Get p-value from Z score"
   ]
  },
  {
   "cell_type": "code",
   "execution_count": 9,
   "id": "64a2d454",
   "metadata": {},
   "outputs": [
    {
     "data": {
      "text/plain": [
       "0.05408895775130428"
      ]
     },
     "execution_count": 9,
     "metadata": {},
     "output_type": "execute_result"
    }
   ],
   "source": [
    "stats.norm.cdf(z_test)"
   ]
  },
  {
   "cell_type": "markdown",
   "id": "4b29707a",
   "metadata": {},
   "source": [
    "Since the p-value is greater than 0.05, Null Hypothesis follows.  \n",
    "Passport office processes application within 30 days"
   ]
  }
 ],
 "metadata": {
  "kernelspec": {
   "display_name": "Python 3 (ipykernel)",
   "language": "python",
   "name": "python3"
  },
  "language_info": {
   "codemirror_mode": {
    "name": "ipython",
    "version": 3
   },
   "file_extension": ".py",
   "mimetype": "text/x-python",
   "name": "python",
   "nbconvert_exporter": "python",
   "pygments_lexer": "ipython3",
   "version": "3.11.3"
  }
 },
 "nbformat": 4,
 "nbformat_minor": 5
}
