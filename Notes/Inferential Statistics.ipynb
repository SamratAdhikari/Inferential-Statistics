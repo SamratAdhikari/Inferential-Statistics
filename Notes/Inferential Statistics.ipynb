{
 "cells": [
  {
   "cell_type": "markdown",
   "id": "511f8231",
   "metadata": {},
   "source": [
    "# <center>Inferential Statistics</center>"
   ]
  },
  {
   "cell_type": "markdown",
   "id": "c6b595c7",
   "metadata": {},
   "source": [
    "### Introduction to Inferential Statistics"
   ]
  },
  {
   "cell_type": "markdown",
   "id": "edc5b284",
   "metadata": {},
   "source": [
    "- Inferential Statistics is the process of using the data analysis to deduce properties of an underlying probability distribution.\n",
    "- Population & Sample.\n",
    "\n",
    "<br>\n",
    "\n",
    "<b>Concept of Population & Sample:</b>\n",
    "- Population is assumed to follow Statistical Distribution with unknown parameters and is represented as:  \n",
    "        - X ~ f(x:θ)  \n",
    "        where, f: Probability Distribution Function, θ: Parameter\n",
    "- A subset of Population is called a Sample.\n",
    "- If a sequence of Observation drawn from population is random then, it is random sample.\n",
    "- Population Characteristics are known as Parameters, sample characteristics are known as Statistic.\n",
    "\n",
    "<br>\n",
    "\n",
    "<b>Difference between Parameter & Statistic:</b>\n",
    "- Parameter:\n",
    "    - A statistical concept of Population.\n",
    "    - Eg: Population mean, Population std.\n",
    "- Statistic:\n",
    "    - A function of sample values.\n",
    "    - Eg: sample mean, sample std.\n",
    "\n",
    "<br>\n",
    "\n",
    "<b>Types of Inferential Statistics:</b>\n",
    "- Classified into Hypothesis testing & Regression analysis.\n",
    "- Includes the use of confidence intervals to test the parameters of a population.\n",
    "\n",
    "<img src='assets/Types of Inferential Statistics.png'>\n",
    "\n",
    "<br>\n",
    "\n",
    "<b>Hypothesis Testing:</b>\n",
    "- Hypothesis testing is a type of inferential statistics that is used to test assumptions and draw conclusions about the population from the available sample data.\n",
    "- It involves setting up a null hypothesis(current belief) and an alternative hypothesis followed by conducting a statistical test of significance.\n",
    "\n",
    "<br>\n",
    "\n",
    "<b>Regression Analysis:</b>\n",
    "- Regression analysis is used to quantify how one variable will change with respect to another variable.\n",
    "- Types of Regression: Linear, Multiple Linear, Logistic & Ordinal Regression.\n",
    "- The most used Regression Analysis is Linear Regression.\n",
    "\n",
    "<br>\n",
    "\n",
    "<b>Use Case: Inferential Statistics:</b>\n",
    "- Suppose the mean marks of 100 students in a particular state are known.   \n",
    "  Using this sample information, the mean marks of students in the state can be approximated using Inferential Statistics."
   ]
  },
  {
   "cell_type": "markdown",
   "id": "008fe35e",
   "metadata": {},
   "source": [
    " "
   ]
  },
  {
   "cell_type": "markdown",
   "id": "ca43bcc1",
   "metadata": {},
   "source": [
    "### Key Terminologies in Inferential Statistics"
   ]
  },
  {
   "cell_type": "markdown",
   "id": "a173649b",
   "metadata": {},
   "source": [
    "<b>Parameter Space:</b>\n",
    "- The set of all admissible values of the parameter.  \n",
    "\n",
    "<b>Sample Space:</b>\n",
    "- The set of all samples of same size that can be drawn from population.\n",
    "\n",
    "<br>\n",
    "\n",
    "<b>Sampling Distribution:</b>\n",
    "- The distribution of values of statistic for different samples of the same size is called its Sampling Distribution.  \n",
    "\n",
    "<b>Standard Error:</b>\n",
    "- The standard deviation of the sampling distribution of a statistic is called its Standard Error.\n",
    "\n",
    "<br>\n",
    "\n",
    "<b>Estimation:</b>\n",
    "- Estimation represents the method of obtaining the most likely value of the population parameter using Statistic.\n",
    "- Two types of Estimation:\n",
    "    - Point Estimation\n",
    "    - Interval Estimation"
   ]
  },
  {
   "cell_type": "markdown",
   "id": "171b1ffe",
   "metadata": {},
   "source": [
    " "
   ]
  },
  {
   "cell_type": "markdown",
   "id": "9670425e",
   "metadata": {},
   "source": [
    "### Forms of Statistical Inference"
   ]
  },
  {
   "cell_type": "markdown",
   "id": "f5a9d671",
   "metadata": {},
   "source": [
    "- There are three main ways of learning about the population parameter from the sample statistic:\n",
    "    - Point Estimation\n",
    "    - Interval Estimation\n",
    "    - Hypothesis Testing\n",
    "    \n",
    "<br>\n",
    "\n",
    "<b>Estimator & Estimate:</b>\n",
    "- A statistic which is used to estimate the paramter, θ is called Point estimator or Estimator. (It is a formula)\n",
    "- The value of estimator for an instance or a realization of sample is called Estimate. (It is a value)\n",
    "\n",
    "<br>\n",
    "\n",
    "<b>Bias of an Estimator:</b>\n",
    "- It is the difference between a parameter and the expectation of its estimator and is defined as:  \n",
    "  B(θ') = E(θ') - θ  \n",
    "  where, θ' is an estimator for a parameter θ.  \n",
    "  \n",
    "<b>Biased & Unbiased Estimator:</b>\n",
    "- If the expected value of a given statistic is equal to the parameter (bias of an estimator is 0),  \n",
    "  then the statistic is an unbiased estimator of the parameter.\n",
    "- If there is a difference between the expected value of statistic and the parameter,  \n",
    "  then it is a biased estimator.\n",
    "  \n",
    "<br>\n",
    "\n",
    "<b>Point Estimation:</b>\n",
    "- Point estimates are single values that estimate the unknown parameter from the statistic.\n",
    "- For example: the sample mean (x̄) is a point estimate of the population mean (µ).  \n",
    "  Similarly, the sample proportion (p) is a point estimate of the population proportion (P).  \n",
    "  \n",
    "<b>Interval Estimation:</b>\n",
    "- Interval estimate is defined by two numbers (estimators), within which a population parameter is said to lie.\n",
    "- The true value of the parameter, θ' is estimated with two estimators: \n",
    "    - θ'<sub>L</sub> : lower confidence limit\n",
    "    - θ'<sub>U</sub> : upper confidence limit\n",
    "    - (1 - α) : confidence level\n",
    "    - α : significance level\n",
    "    - P(θ'<sub>L</sub> < θ' < θ'<sub>U</sub>) = (1 - α)\n",
    "    \n",
    "<br>\n",
    "\n",
    "<b>Point & Interval Estimation:</b>\n",
    "- Point Estimation:\n",
    "    - Gives the particular value as an estimate of the population parameter.\n",
    "    - Example: Number of runs made by a team in the finals of Asian Cup based on the data of past performance.\n",
    "\n",
    "- Interval Estimation:\n",
    "    - Gives the range of values which is likely to contain the population parameter.\n",
    "    - Example: Estimate the range of subscriptions of the Fixed Deposit scheme & \n",
    "               check whether they cross the critical threshold or not."
   ]
  },
  {
   "cell_type": "markdown",
   "id": "4efa9371",
   "metadata": {},
   "source": [
    " "
   ]
  },
  {
   "cell_type": "markdown",
   "id": "317735fe",
   "metadata": {},
   "source": [
    "### Confidence Interval"
   ]
  },
  {
   "cell_type": "markdown",
   "id": "1dab4db6",
   "metadata": {},
   "source": [
    "<b>Confidence Interval:</b>\n",
    "- A confidence interval describes the amount of uncertainty associated with a sample estimate of a population parameter.\n",
    "- 3 parts of confidence interval:\n",
    "    - Confidence Level\n",
    "    - Statistic\n",
    "    - Margin of Error\n",
    "<img src='assets/Confidence Interval.png' width=500>\n",
    "\n",
    "<br>\n",
    "    \n",
    "<b>Confidence Level:</b>\n",
    "- The probability part of a confidence interval is called confidence level, denoted by (1 - α).\n",
    "- It describes the likelihood that a sampling method will produce a confidence interval that includes the true population parameter.\n",
    "- 95% confidence level means that 95% of the intervals contain the true population parameter.\n",
    "\n",
    "<br>\n",
    "\n",
    "<b>Confidence Level: Guessing Game:</b>\n",
    "- Consider a glass jar that has exactly 200 candies and this number is not revealed to the participants.\n",
    "- You win Rs. 50 if you guess the number of candies in this jar. The cost of playing this game is Rs. 5 per attempt.  \n",
    "\n",
    "Game I: \n",
    "- No room for error. You need to give the exact count.  \n",
    "  You are not so confident of playing this game. You have low confidence level for this version.   \n",
    "Game II: \n",
    "- You can guess the number of candies with a variance of 50 (i.e. 300 +- 50).  \n",
    "  You are a bit more confident to play this game. You have moderate confidence level and moderate room for ERROR in this version.\n",
    "Game III:  \n",
    "- You can guess with a variance of 100. You are more confident to play this game.  \n",
    "  You have high confidence level and high room for ERROR.\n",
    "  \n",
    "  \n",
    "<br>\n",
    "\n",
    "<b>Margin of Error:</b>\n",
    "- In a confidence interval, the range of values above and below the sample statistic is called the Margin of Error.\n",
    "- For example: Suppose the local newspaper conducts an election survey and reports that the independent candidate will receive 40% of the vote.\n",
    "- The newspaper states that the survey had a 5% margin of error and a confidence level of 95%.\n",
    "- These findings result in the following confidence interval: We are 95% confident that the independent candidate will receive between 35% to 45% of the votes. \n",
    "\n",
    "<br>\n",
    "\n",
    "<b>Confidence Interval Estimation:</b>\n",
    "- The Confidence Interval is CI = (θ'<sub>L</sub>, θ'<sub>U</sub>)\n",
    "- Confidence Interval for Normal Mean:  \n",
    "    θ'<sub>L</sub> = X̄ - Z<sub>$\\frac{α}{2}$</sub>*$\\frac{S}{√n}$  \n",
    "    θ'<sub>U</sub> = X̄ + Z<sub>$\\frac{α}{2}$</sub>*$\\frac{S}{√n}$  \n",
    "    where, Z<sub>$\\frac{α}{2}$</sub> is normal cut-off whose right tail area is $\\frac{α}{2}$.\n",
    "<img src='assets/Confidence Interval Estimation.png' width=500>\n",
    "\n",
    "<br>\n",
    "\n",
    "<b>Construction of Confidence Interval:</b>\n",
    "- Identify the Sample Statistic:\n",
    "    - Choose the statistic that will be used to estimate a population parameter.\n",
    "- Select the Confidence Level:\n",
    "    - Describe the uncertainity of a sampling method.\n",
    "- Find Margin of Error:\n",
    "    - Find the margin of error based on this equation:  \n",
    "      Margin of Error = Critical Value * Standard Deviation of Statistic\n",
    "- Specify Confidence Interval:\n",
    "    - The confidence interval can be found by:  \n",
    "      Confidence Interval = Sample Statistic +- Margin of Error"
   ]
  }
 ],
 "metadata": {
  "kernelspec": {
   "display_name": "Python 3 (ipykernel)",
   "language": "python",
   "name": "python3"
  },
  "language_info": {
   "codemirror_mode": {
    "name": "ipython",
    "version": 3
   },
   "file_extension": ".py",
   "mimetype": "text/x-python",
   "name": "python",
   "nbconvert_exporter": "python",
   "pygments_lexer": "ipython3",
   "version": "3.11.3"
  }
 },
 "nbformat": 4,
 "nbformat_minor": 5
}
