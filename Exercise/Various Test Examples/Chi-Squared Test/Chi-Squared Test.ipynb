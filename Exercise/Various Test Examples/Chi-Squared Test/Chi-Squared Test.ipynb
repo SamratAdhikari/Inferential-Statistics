{
 "cells": [
  {
   "cell_type": "markdown",
   "id": "cec9b232",
   "metadata": {},
   "source": [
    "# <center>Chi-Squared Goodness of Fit Test</center>"
   ]
  },
  {
   "cell_type": "markdown",
   "id": "9f00a04b",
   "metadata": {},
   "source": [
    "#### Example I"
   ]
  },
  {
   "cell_type": "markdown",
   "id": "704907f2",
   "metadata": {},
   "source": [
    "Yeti Airlines which operates daily flights to several Nepali cities. One of the problem this airline faces is the food preference by the passengers. Captain Samrat, the operation manager of the airline, believes that 35% of their passengers prefer vegetarian food. 40% of the passengers prefer non-veg food. 20% of the passengers prefer low calorie food and 5% request for diabetic food.  \n",
    "\n",
    "<br>\n",
    "\n",
    "We have a sample of 500 passengers which was chosen to analyze the food preference and the observed frequencies are as follows:\n",
    "- Veg: 190\n",
    "- Non-veg: 185\n",
    "- Low calorie: 90\n",
    "- Diabetic: 35  \n",
    "\n",
    "Perform Chi-squared test to check whether Captain Samrat's belief is True or not."
   ]
  },
  {
   "cell_type": "code",
   "execution_count": 3,
   "id": "60883770",
   "metadata": {},
   "outputs": [
    {
     "data": {
      "text/plain": [
       "[175.0, 200.0, 100.0, 25.0]"
      ]
     },
     "execution_count": 3,
     "metadata": {},
     "output_type": "execute_result"
    }
   ],
   "source": [
    "# frequency of observations:\n",
    "obs = [190, 185, 90, 35]\n",
    "\n",
    "# frequency expectations:\n",
    "exp = [0.35*500, 0.4*500, 0.2*500, 0.05*500]\n",
    "exp"
   ]
  },
  {
   "cell_type": "markdown",
   "id": "a423ccee",
   "metadata": {},
   "source": [
    "Clearly the observations and expectations are not matching.  \n",
    "Now checking if the difference is statistically significant or not."
   ]
  },
  {
   "cell_type": "code",
   "execution_count": 4,
   "id": "34f5f836",
   "metadata": {},
   "outputs": [],
   "source": [
    "from scipy import stats"
   ]
  },
  {
   "cell_type": "code",
   "execution_count": 5,
   "id": "959954fa",
   "metadata": {},
   "outputs": [
    {
     "data": {
      "text/plain": [
       "Power_divergenceResult(statistic=7.410714285714286, pvalue=0.05989751420084909)"
      ]
     },
     "execution_count": 5,
     "metadata": {},
     "output_type": "execute_result"
    }
   ],
   "source": [
    "stats.chisquare(obs, exp)"
   ]
  },
  {
   "cell_type": "markdown",
   "id": "e4cde910",
   "metadata": {},
   "source": [
    "Since, the p-value is greater then 0.05, Null Hypothesis follows.  \n",
    "Therefore, the prediction of Captain Samrat is True."
   ]
  }
 ],
 "metadata": {
  "kernelspec": {
   "display_name": "Python 3 (ipykernel)",
   "language": "python",
   "name": "python3"
  },
  "language_info": {
   "codemirror_mode": {
    "name": "ipython",
    "version": 3
   },
   "file_extension": ".py",
   "mimetype": "text/x-python",
   "name": "python",
   "nbconvert_exporter": "python",
   "pygments_lexer": "ipython3",
   "version": "3.11.3"
  }
 },
 "nbformat": 4,
 "nbformat_minor": 5
}
