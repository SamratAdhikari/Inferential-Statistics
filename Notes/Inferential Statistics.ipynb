{
 "cells": [
  {
   "cell_type": "markdown",
   "id": "511f8231",
   "metadata": {},
   "source": [
    "# <center>Inferential Statistics</center>"
   ]
  },
  {
   "cell_type": "markdown",
   "id": "c6b595c7",
   "metadata": {},
   "source": [
    "### Introduction to Inferential Statistics"
   ]
  },
  {
   "cell_type": "markdown",
   "id": "edc5b284",
   "metadata": {},
   "source": [
    "- Inferential Statistics is the process of using the data analysis to deduce properties of an underlying probability distribution.\n",
    "- Population & Sample.\n",
    "\n",
    "<br>\n",
    "\n",
    "<b>Concept of Population & Sample:</b>\n",
    "- Population is assumed to follow Statistical Distribution with unknown parameters and is represented as:  \n",
    "        - X ~ f(x:θ)  \n",
    "        where, f: Probability Distribution Function, θ: Parameter\n",
    "- A subset of Population is called a Sample.\n",
    "- If a sequence of Observation drawn from population is random then, it is random sample.\n",
    "- Population Characteristics are known as Parameters, sample characteristics are known as Statistic.\n",
    "\n",
    "<br>\n",
    "\n",
    "<b>Difference between Parameter & Statistic:</b>\n",
    "- Parameter:\n",
    "    - A statistical concept of Population.\n",
    "    - Eg: Population mean, Population std.\n",
    "- Statistic:\n",
    "    - A function of sample values.\n",
    "    - Eg: sample mean, sample std.\n",
    "\n",
    "<br>\n",
    "\n",
    "<b>Types of Inferential Statistics:</b>\n",
    "- Classified into Hypothesis testing & Regression analysis.\n",
    "- Includes the use of confidence intervals to test the parameters of a population.\n",
    "\n",
    "<img src='assets/Types of Inferential Statistics.png'>\n",
    "\n",
    "<br>\n",
    "\n",
    "<b>Hypothesis Testing:</b>\n",
    "- Hypothesis testing is a type of inferential statistics that is used to test assumptions and draw conclusions about the population from the available sample data.\n",
    "- It involves setting up a null hypothesis(current belief) and an alternative hypothesis followed by conducting a statistical test of significance.\n",
    "\n",
    "<br>\n",
    "\n",
    "<b>Regression Analysis:</b>\n",
    "- Regression analysis is used to quantify how one variable will change with respect to another variable.\n",
    "- Types of Regression: Linear, Multiple Linear, Logistic & Ordinal Regression.\n",
    "- The most used Regression Analysis is Linear Regression.\n",
    "\n",
    "<br>\n",
    "\n",
    "<b>Use Case: Inferential Statistics:</b>\n",
    "- Suppose the mean marks of 100 students in a particular state are known.   \n",
    "  Using this sample information, the mean marks of students in the state can be approximated using Inferential Statistics."
   ]
  },
  {
   "cell_type": "code",
   "execution_count": null,
   "id": "813f7a83",
   "metadata": {},
   "outputs": [],
   "source": []
  }
 ],
 "metadata": {
  "kernelspec": {
   "display_name": "Python 3 (ipykernel)",
   "language": "python",
   "name": "python3"
  },
  "language_info": {
   "codemirror_mode": {
    "name": "ipython",
    "version": 3
   },
   "file_extension": ".py",
   "mimetype": "text/x-python",
   "name": "python",
   "nbconvert_exporter": "python",
   "pygments_lexer": "ipython3",
   "version": "3.11.3"
  }
 },
 "nbformat": 4,
 "nbformat_minor": 5
}
