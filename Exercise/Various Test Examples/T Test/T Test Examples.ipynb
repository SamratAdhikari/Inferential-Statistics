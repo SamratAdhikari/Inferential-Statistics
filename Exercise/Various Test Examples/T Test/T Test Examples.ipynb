{
 "cells": [
  {
   "cell_type": "markdown",
   "id": "4e1c28bd",
   "metadata": {},
   "source": [
    "# <center>T Test Examples</center>"
   ]
  },
  {
   "cell_type": "markdown",
   "id": "98d1a9ec",
   "metadata": {},
   "source": [
    "### Example I: One Sample T-test"
   ]
  },
  {
   "cell_type": "markdown",
   "id": "0d2b422f",
   "metadata": {},
   "source": [
    "Yeti productions is a newly found movie production company based out of Nepal, and this production company is interested in understanding the production cost which is required for producing a Newari movie. The industry believes that production house will require around 50 crore rupees on an average to produce a movie. It is assumed that Newari movie production cost follows the normal distribution. The production cost of 40 Newari movies in millions of rupees are given in our CSV file. Now conduct an appropriate hypothesis test at alpha equal to 0.05 to check whether the belief about the average production cost is correct or not."
   ]
  },
  {
   "cell_type": "markdown",
   "id": "8b6a9e6d",
   "metadata": {},
   "source": [
    "<b>Given:</b>  \n",
    "Total number of entries; population size  (N) = 40   \n",
    "Assumed mean (µ) = 50 crore = 500 M  \n",
    "alpha (α) = 0.05"
   ]
  },
  {
   "cell_type": "code",
   "execution_count": 8,
   "id": "6be7d923",
   "metadata": {},
   "outputs": [],
   "source": [
    "import pandas as pd\n",
    "import numpy as np\n",
    "from scipy import stats\n",
    "import seaborn as sns\n",
    "import matplotlib.pyplot as plt\n",
    "\n",
    "import warnings\n",
    "warnings.filterwarnings(\"ignore\")"
   ]
  },
  {
   "cell_type": "code",
   "execution_count": 3,
   "id": "9d2430f1",
   "metadata": {},
   "outputs": [
    {
     "data": {
      "text/html": [
       "<div>\n",
       "<style scoped>\n",
       "    .dataframe tbody tr th:only-of-type {\n",
       "        vertical-align: middle;\n",
       "    }\n",
       "\n",
       "    .dataframe tbody tr th {\n",
       "        vertical-align: top;\n",
       "    }\n",
       "\n",
       "    .dataframe thead th {\n",
       "        text-align: right;\n",
       "    }\n",
       "</style>\n",
       "<table border=\"1\" class=\"dataframe\">\n",
       "  <thead>\n",
       "    <tr style=\"text-align: right;\">\n",
       "      <th></th>\n",
       "      <th>movie_cost</th>\n",
       "    </tr>\n",
       "  </thead>\n",
       "  <tbody>\n",
       "    <tr>\n",
       "      <th>0</th>\n",
       "      <td>602</td>\n",
       "    </tr>\n",
       "    <tr>\n",
       "      <th>1</th>\n",
       "      <td>628</td>\n",
       "    </tr>\n",
       "    <tr>\n",
       "      <th>2</th>\n",
       "      <td>329</td>\n",
       "    </tr>\n",
       "    <tr>\n",
       "      <th>3</th>\n",
       "      <td>365</td>\n",
       "    </tr>\n",
       "    <tr>\n",
       "      <th>4</th>\n",
       "      <td>561</td>\n",
       "    </tr>\n",
       "  </tbody>\n",
       "</table>\n",
       "</div>"
      ],
      "text/plain": [
       "   movie_cost\n",
       "0         602\n",
       "1         628\n",
       "2         329\n",
       "3         365\n",
       "4         561"
      ]
     },
     "execution_count": 3,
     "metadata": {},
     "output_type": "execute_result"
    }
   ],
   "source": [
    "df = pd.read_csv(\"newari_movies.csv\")\n",
    "df.head()"
   ]
  },
  {
   "cell_type": "code",
   "execution_count": 5,
   "id": "7ed4bfb1",
   "metadata": {},
   "outputs": [
    {
     "data": {
      "text/plain": [
       "TtestResult(statistic=-2.2833225316760535, pvalue=0.027941798931104676, df=39)"
      ]
     },
     "execution_count": 5,
     "metadata": {},
     "output_type": "execute_result"
    }
   ],
   "source": [
    "pop_mean = 500 # 50 crore rupees\n",
    "\n",
    "stats.ttest_1samp(df['movie_cost'], pop_mean)"
   ]
  },
  {
   "cell_type": "markdown",
   "id": "c3ac10cb",
   "metadata": {},
   "source": [
    "Since the p-value is less than 0.05, we reject the Null Hypothesis and retain the Alternate Hypothesis.  \n",
    "Therefore, we conclude that, the average production cost is not 50 crore."
   ]
  },
  {
   "cell_type": "markdown",
   "id": "fe21d062",
   "metadata": {},
   "source": [
    "### Example II: Two Sample T-test"
   ]
  },
  {
   "cell_type": "markdown",
   "id": "81648a0d",
   "metadata": {},
   "source": [
    "A company claims that children who drink their health drink will grow taller than the children who don't. We have a CSV file where it shows about the change in height over one year period from two groups:  \n",
    "One group drinking the health drink and the another group not drinking the health drink.  \n",
    "Now at alpha equal to 0.05, we want to test whether the increase in height for children who drank the health drink is diffrent than those who did not drink that health drink."
   ]
  },
  {
   "cell_type": "markdown",
   "id": "14981676",
   "metadata": {},
   "source": [
    "- Null Hypothesis: There is no difference in height between children who drank the health drink with children who did not.\n",
    "- Alternate Hypothesis: The increase in height for children who drank the health drink is different than those who did not."
   ]
  },
  {
   "cell_type": "code",
   "execution_count": 7,
   "id": "5c8366dd",
   "metadata": {},
   "outputs": [
    {
     "data": {
      "text/html": [
       "<div>\n",
       "<style scoped>\n",
       "    .dataframe tbody tr th:only-of-type {\n",
       "        vertical-align: middle;\n",
       "    }\n",
       "\n",
       "    .dataframe tbody tr th {\n",
       "        vertical-align: top;\n",
       "    }\n",
       "\n",
       "    .dataframe thead th {\n",
       "        text-align: right;\n",
       "    }\n",
       "</style>\n",
       "<table border=\"1\" class=\"dataframe\">\n",
       "  <thead>\n",
       "    <tr style=\"text-align: right;\">\n",
       "      <th></th>\n",
       "      <th>drink_no</th>\n",
       "      <th>drink_yes</th>\n",
       "    </tr>\n",
       "  </thead>\n",
       "  <tbody>\n",
       "    <tr>\n",
       "      <th>0</th>\n",
       "      <td>6.3</td>\n",
       "      <td>9.6</td>\n",
       "    </tr>\n",
       "    <tr>\n",
       "      <th>1</th>\n",
       "      <td>10.0</td>\n",
       "      <td>6.8</td>\n",
       "    </tr>\n",
       "    <tr>\n",
       "      <th>2</th>\n",
       "      <td>5.7</td>\n",
       "      <td>10.2</td>\n",
       "    </tr>\n",
       "    <tr>\n",
       "      <th>3</th>\n",
       "      <td>5.5</td>\n",
       "      <td>8.5</td>\n",
       "    </tr>\n",
       "    <tr>\n",
       "      <th>4</th>\n",
       "      <td>5.4</td>\n",
       "      <td>6.8</td>\n",
       "    </tr>\n",
       "  </tbody>\n",
       "</table>\n",
       "</div>"
      ],
      "text/plain": [
       "   drink_no  drink_yes\n",
       "0       6.3        9.6\n",
       "1      10.0        6.8\n",
       "2       5.7       10.2\n",
       "3       5.5        8.5\n",
       "4       5.4        6.8"
      ]
     },
     "execution_count": 7,
     "metadata": {},
     "output_type": "execute_result"
    }
   ],
   "source": [
    "data = pd.read_csv(\"drink.csv\")\n",
    "data.head()"
   ]
  },
  {
   "cell_type": "code",
   "execution_count": 14,
   "id": "93ea6762",
   "metadata": {},
   "outputs": [],
   "source": [
    "data.isnull().sum()\n",
    "data.dropna(inplace=True)"
   ]
  },
  {
   "cell_type": "code",
   "execution_count": 16,
   "id": "86415fba",
   "metadata": {},
   "outputs": [
    {
     "data": {
      "image/png": "[encoded data removed]",
      "text/plain": [
       "<Figure size 640x480 with 1 Axes>"
      ]
     },
     "metadata": {},
     "output_type": "display_data"
    }
   ],
   "source": [
    "sns.distplot(data['drink_no'], label='No')\n",
    "sns.distplot(data['drink_yes'], label='Yes')\n",
    "plt.legend()\n",
    "plt.show()"
   ]
  },
  {
   "cell_type": "code",
   "execution_count": 17,
   "id": "c99d2d41",
   "metadata": {},
   "outputs": [
    {
     "data": {
      "text/plain": [
       "Ttest_indResult(statistic=7.933187410438474, pvalue=3.871559912221169e-13)"
      ]
     },
     "execution_count": 17,
     "metadata": {},
     "output_type": "execute_result"
    }
   ],
   "source": [
    "stats.ttest_ind(data['drink_yes'], data['drink_no'])"
   ]
  },
  {
   "cell_type": "code",
   "execution_count": 18,
   "id": "067d0a44",
   "metadata": {},
   "outputs": [
    {
     "data": {
      "text/plain": [
       "0.0"
      ]
     },
     "execution_count": 18,
     "metadata": {},
     "output_type": "execute_result"
    }
   ],
   "source": [
    "round(3.871559912221169e-13, 4)"
   ]
  },
  {
   "cell_type": "markdown",
   "id": "df037fef",
   "metadata": {},
   "source": [
    "Since p-value is less than 0.05, Alternate Hypothesis is followed.  \n",
    "Therefore, There is increase in height for children who drank the health drink."
   ]
  }
 ],
 "metadata": {
  "kernelspec": {
   "display_name": "Python 3 (ipykernel)",
   "language": "python",
   "name": "python3"
  },
  "language_info": {
   "codemirror_mode": {
    "name": "ipython",
    "version": 3
   },
   "file_extension": ".py",
   "mimetype": "text/x-python",
   "name": "python",
   "nbconvert_exporter": "python",
   "pygments_lexer": "ipython3",
   "version": "3.11.3"
  }
 },
 "nbformat": 4,
 "nbformat_minor": 5
}
